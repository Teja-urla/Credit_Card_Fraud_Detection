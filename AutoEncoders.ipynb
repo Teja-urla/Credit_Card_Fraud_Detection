{
 "cells": [
  {
   "cell_type": "code",
   "execution_count": 1,
   "metadata": {},
   "outputs": [
    {
     "name": "stderr",
     "output_type": "stream",
     "text": [
      "2024-09-01 16:40:05.047809: I tensorflow/core/util/port.cc:113] oneDNN custom operations are on. You may see slightly different numerical results due to floating-point round-off errors from different computation orders. To turn them off, set the environment variable `TF_ENABLE_ONEDNN_OPTS=0`.\n",
      "2024-09-01 16:40:05.538205: I tensorflow/core/platform/cpu_feature_guard.cc:210] This TensorFlow binary is optimized to use available CPU instructions in performance-critical operations.\n",
      "To enable the following instructions: AVX2 AVX512F AVX512_VNNI FMA, in other operations, rebuild TensorFlow with the appropriate compiler flags.\n",
      "2024-09-01 16:40:06.790012: W tensorflow/compiler/tf2tensorrt/utils/py_utils.cc:38] TF-TRT Warning: Could not find TensorRT\n"
     ]
    }
   ],
   "source": [
    "import pandas as pd\n",
    "from sklearn.model_selection import train_test_split\n",
    "from sklearn.preprocessing import MinMaxScaler, StandardScaler\n",
    "from tensorflow.keras.models import Sequential, Model\n",
    "from tensorflow.keras.layers import Dense, Input\n",
    "from tensorflow.keras.optimizers import Adam\n",
    "import numpy as np\n",
    "# Load data from CSV file\n",
    "data = pd.read_csv('creditcard.csv')\n",
    "\n",
    "# Separate features (X) and labels (y)\n",
    "X = data.drop('Class', axis=1)\n",
    "y = data['Class']\n",
    "\n",
    "# Normalize features\n",
    "scaler = MinMaxScaler()\n",
    "X = scaler.fit_transform(X)\n",
    "\n",
    "# split the data into fraud and non-fraud\n",
    "X_fraud = X[y == 1]\n",
    "X_non_fraud = X[y == 0]"
   ]
  },
  {
   "cell_type": "markdown",
   "metadata": {},
   "source": [
    "<h3> I am splitting the non fraud data into 2/3rd part of training and 1/3rd non_fraud + fraud data as validation dataset. </h3>\n",
    "<h3> I am using the training data to train the model and validation data to validate the model(for calculating the threshold value) </h3>"
   ]
  },
  {
   "cell_type": "code",
   "execution_count": 2,
   "metadata": {},
   "outputs": [
    {
     "name": "stdout",
     "output_type": "stream",
     "text": [
      "(190491, 30) (93824, 30)\n",
      "(94316, 30)\n"
     ]
    }
   ],
   "source": [
    "# split the data into training and validation\n",
    "X_non_fraud_train, X_non_fraud_val = train_test_split(X_non_fraud, test_size=0.33)\n",
    "print(X_non_fraud_train.shape, X_non_fraud_val.shape)\n",
    "\n",
    "# split the X_fraud_train into training and testing 10% of the data\n",
    "X_non_fraud_train1, X_non_fraud_test1 = train_test_split(X_non_fraud_train, test_size=0.1)\n",
    "\n",
    "#y-NON_FRAUD_test\n",
    "y_non_fraud_test1 = np.zeros(X_non_fraud_test1.shape[0])\n",
    "\n",
    "# combine the X_non_fraud_val and X_fraud into X_val and y_val\n",
    "X_val = np.concatenate((X_non_fraud_val, X_fraud))\n",
    "y_val = np.concatenate((np.zeros(X_non_fraud_val.shape[0]), np.ones(X_fraud.shape[0])))\n",
    "\n",
    "print(X_val.shape)"
   ]
  },
  {
   "cell_type": "markdown",
   "metadata": {},
   "source": [
    "<h4>Model declared here: </h4>"
   ]
  },
  {
   "cell_type": "code",
   "execution_count": 3,
   "metadata": {},
   "outputs": [
    {
     "name": "stderr",
     "output_type": "stream",
     "text": [
      "/home/teja/.local/lib/python3.10/site-packages/keras/src/layers/core/dense.py:88: UserWarning: Do not pass an `input_shape`/`input_dim` argument to a layer. When using Sequential models, prefer using an `Input(shape)` object as the first layer in the model instead.\n",
      "  super().__init__(activity_regularizer=activity_regularizer, **kwargs)\n",
      "2024-09-01 16:40:13.040482: E external/local_xla/xla/stream_executor/cuda/cuda_driver.cc:282] failed call to cuInit: CUDA_ERROR_UNKNOWN: unknown error\n"
     ]
    }
   ],
   "source": [
    "\n",
    "# Define the encoder architecture\n",
    "encoder = Sequential([\n",
    "    Dense(10, activation='relu', input_shape=(X_non_fraud_train1.shape[1],)), # matrix shape is 10x30\n",
    "    Dense(10, activation='relu')\n",
    "])\n",
    "\n",
    "# Define the decoder architecture\n",
    "decoder = Sequential([\n",
    "    Dense(10, activation='relu', input_shape=(10,)),\n",
    "    Dense(X_non_fraud_train1.shape[1], activation='linear')\n",
    "])\n",
    "\n",
    "# Combine encoder and decoder into an autoencoder\n",
    "input_layer = Input(shape=(X_non_fraud_train1.shape[1],))\n",
    "encoded = encoder(input_layer)\n",
    "decoded = decoder(encoded)"
   ]
  },
  {
   "cell_type": "code",
   "execution_count": 4,
   "metadata": {},
   "outputs": [
    {
     "name": "stdout",
     "output_type": "stream",
     "text": [
      "Epoch 1/10\n",
      "\u001b[1m2679/2679\u001b[0m \u001b[32m━━━━━━━━━━━━━━━━━━━━\u001b[0m\u001b[37m\u001b[0m \u001b[1m3s\u001b[0m 924us/step - loss: 0.0277 - val_loss: 0.0016\n",
      "Epoch 2/10\n",
      "\u001b[1m2679/2679\u001b[0m \u001b[32m━━━━━━━━━━━━━━━━━━━━\u001b[0m\u001b[37m\u001b[0m \u001b[1m2s\u001b[0m 916us/step - loss: 0.0014 - val_loss: 0.0013\n",
      "Epoch 3/10\n",
      "\u001b[1m2679/2679\u001b[0m \u001b[32m━━━━━━━━━━━━━━━━━━━━\u001b[0m\u001b[37m\u001b[0m \u001b[1m2s\u001b[0m 762us/step - loss: 0.0012 - val_loss: 0.0012\n",
      "Epoch 4/10\n",
      "\u001b[1m2679/2679\u001b[0m \u001b[32m━━━━━━━━━━━━━━━━━━━━\u001b[0m\u001b[37m\u001b[0m \u001b[1m2s\u001b[0m 765us/step - loss: 0.0011 - val_loss: 0.0012\n",
      "Epoch 5/10\n",
      "\u001b[1m2679/2679\u001b[0m \u001b[32m━━━━━━━━━━━━━━━━━━━━\u001b[0m\u001b[37m\u001b[0m \u001b[1m2s\u001b[0m 758us/step - loss: 0.0011 - val_loss: 0.0012\n",
      "Epoch 6/10\n",
      "\u001b[1m2679/2679\u001b[0m \u001b[32m━━━━━━━━━━━━━━━━━━━━\u001b[0m\u001b[37m\u001b[0m \u001b[1m2s\u001b[0m 768us/step - loss: 0.0011 - val_loss: 0.0011\n",
      "Epoch 7/10\n",
      "\u001b[1m2679/2679\u001b[0m \u001b[32m━━━━━━━━━━━━━━━━━━━━\u001b[0m\u001b[37m\u001b[0m \u001b[1m2s\u001b[0m 791us/step - loss: 0.0010 - val_loss: 0.0011\n",
      "Epoch 8/10\n",
      "\u001b[1m2679/2679\u001b[0m \u001b[32m━━━━━━━━━━━━━━━━━━━━\u001b[0m\u001b[37m\u001b[0m \u001b[1m2s\u001b[0m 796us/step - loss: 9.9253e-04 - val_loss: 0.0011\n",
      "Epoch 9/10\n",
      "\u001b[1m2679/2679\u001b[0m \u001b[32m━━━━━━━━━━━━━━━━━━━━\u001b[0m\u001b[37m\u001b[0m \u001b[1m2s\u001b[0m 789us/step - loss: 9.7934e-04 - val_loss: 0.0011\n",
      "Epoch 10/10\n",
      "\u001b[1m2679/2679\u001b[0m \u001b[32m━━━━━━━━━━━━━━━━━━━━\u001b[0m\u001b[37m\u001b[0m \u001b[1m2s\u001b[0m 843us/step - loss: 9.7485e-04 - val_loss: 0.0011\n"
     ]
    },
    {
     "data": {
      "text/plain": [
       "<keras.src.callbacks.history.History at 0x742f9ffbba00>"
      ]
     },
     "execution_count": 4,
     "metadata": {},
     "output_type": "execute_result"
    }
   ],
   "source": [
    "# include encoder and decoder in autoencoder\n",
    "autoencoder = Model(input_layer, decoded)\n",
    "\n",
    "autoencoder.compile(optimizer='adam', loss='mse')  # Mean squared error for reconstruction loss\n",
    "\n",
    "# Train the autoencoder\n",
    "autoencoder.fit(X_non_fraud_train1, X_non_fraud_train1, epochs=10, batch_size=64, shuffle=True, validation_data=(X_val, X_val)) \n"
   ]
  },
  {
   "cell_type": "code",
   "execution_count": 5,
   "metadata": {},
   "outputs": [
    {
     "name": "stdout",
     "output_type": "stream",
     "text": [
      "\u001b[1m2948/2948\u001b[0m \u001b[32m━━━━━━━━━━━━━━━━━━━━\u001b[0m\u001b[37m\u001b[0m \u001b[1m1s\u001b[0m 494us/step\n"
     ]
    },
    {
     "data": {
      "image/png": "[encoded data removed]",
      "text/plain": [
       "<Figure size 640x480 with 1 Axes>"
      ]
     },
     "metadata": {},
     "output_type": "display_data"
    }
   ],
   "source": [
    "from sklearn.metrics import f1_score, precision_score, accuracy_score\n",
    "import matplotlib.pyplot as plt\n",
    "\n",
    "\n",
    "# Calculate the MSE for the validation set\n",
    "reconstructed_X_val = autoencoder.predict(X_val)\n",
    "mse_val = np.mean(np.square(X_val - reconstructed_X_val), axis=1)\n",
    "\n",
    "# scatter the Number of samples(x_axis) vs MSE(y_axis), keep the scatter point size small\n",
    "plt.scatter(range(X_val.shape[0]), mse_val, s=2)\n",
    "plt.xlabel('Number of samples')\n",
    "\n",
    "plt.ylabel('MSE')\n",
    "plt.show()\n"
   ]
  },
  {
   "cell_type": "markdown",
   "metadata": {},
   "source": [
    "<h4> The above plot indicates that the data which is fraud has greater loss than the data which is not fraud. (which is at the end of the graph, I have concatenated the fraud data at the end of X_val) </h4>"
   ]
  },
  {
   "cell_type": "markdown",
   "metadata": {},
   "source": [
    "<h3> Finding the threshold using percentile method </h3>"
   ]
  },
  {
   "cell_type": "code",
   "execution_count": 9,
   "metadata": {},
   "outputs": [
    {
     "name": "stdout",
     "output_type": "stream",
     "text": [
      "\u001b[1m2948/2948\u001b[0m \u001b[32m━━━━━━━━━━━━━━━━━━━━\u001b[0m\u001b[37m\u001b[0m \u001b[1m1s\u001b[0m 426us/step\n",
      "(94316, 30)\n",
      "[0.00042261 0.00102383 0.00050741 ... 0.00288237 0.00608133 0.00077899]\n",
      "0.0023969233405716894\n"
     ]
    }
   ],
   "source": [
    "import numpy as np\n",
    "\n",
    "# import f1score, precision_score from sklearn\n",
    "from sklearn.metrics import f1_score, precision_score, accuracy_score\n",
    "\n",
    "y_pred = autoencoder.predict(X_val)\n",
    "print(y_pred.shape)\n",
    "mse = np.mean(np.square(X_val - y_pred), axis=1) # Mean squared error is the differ\n",
    "print(mse)\n",
    "threshold = np.percentile(mse, 95)\n",
    "print(threshold)\n"
   ]
  },
  {
   "cell_type": "code",
   "execution_count": 8,
   "metadata": {},
   "outputs": [
    {
     "name": "stdout",
     "output_type": "stream",
     "text": [
      "(94316,)\n",
      "              precision    recall  f1-score   support\n",
      "\n",
      "         0.0       1.00      0.95      0.98     93824\n",
      "         1.0       0.09      0.88      0.17       492\n",
      "\n",
      "    accuracy                           0.95     94316\n",
      "   macro avg       0.55      0.92      0.57     94316\n",
      "weighted avg       0.99      0.95      0.97     94316\n",
      "\n"
     ]
    }
   ],
   "source": [
    "from sklearn.metrics import classification_report\n",
    "\n",
    "y_predicted = mse > threshold \n",
    "print(y_predicted.shape)\n",
    "print(classification_report(y_val, y_predicted))"
   ]
  },
  {
   "cell_type": "markdown",
   "metadata": {},
   "source": [
    "# VAE part"
   ]
  },
  {
   "cell_type": "code",
   "execution_count": 2,
   "metadata": {},
   "outputs": [],
   "source": [
    "import torch\n",
    "from torch import nn\n",
    "from torch.nn import functional as F\n",
    "import numpy as np\n",
    "import pandas as pd\n",
    "from sklearn.model_selection import train_test_split"
   ]
  },
  {
   "cell_type": "code",
   "execution_count": 3,
   "metadata": {},
   "outputs": [],
   "source": [
    "# define VAE model\n",
    "\n",
    "class VAE(nn.Module):\n",
    "    def __init__(self, input_dim, hidden_dim, latent_dim):\n",
    "        super(VAE, self).__init__()\n",
    "        self.encoder = nn.Sequential(\n",
    "            nn.Linear(input_dim, hidden_dim),\n",
    "            nn.ReLU(),\n",
    "            nn.Linear(hidden_dim, hidden_dim),\n",
    "            nn.ReLU()\n",
    "        )\n",
    "        self.mu = nn.Linear(hidden_dim, latent_dim)\n",
    "        self.logvar = nn.Linear(hidden_dim, latent_dim)\n",
    "        self.decoder = nn.Sequential(\n",
    "            nn.Linear(latent_dim, hidden_dim),\n",
    "            nn.ReLU(),\n",
    "            nn.Linear(hidden_dim, hidden_dim),\n",
    "            nn.ReLU(),\n",
    "            nn.Linear(hidden_dim, input_dim)\n",
    "        )\n",
    "        \n",
    "    def reparameterize(self, mu, logvar):\n",
    "        std = torch.exp(0.5 * logvar)\n",
    "        eps = torch.randn_like(std)\n",
    "        return mu + eps * std\n",
    "    \n",
    "    def forward(self, x):\n",
    "        h = self.encoder(x)\n",
    "        mu = self.mu(h)\n",
    "        logvar = self.logvar(h)\n",
    "        z = self.reparameterize(mu, logvar)\n",
    "        x_hat = self.decoder(z)\n",
    "        return x_hat, mu, logvar\n",
    "    \n",
    "    def loss(self, x, x_hat, mu, logvar):\n",
    "        recon_loss = F.mse_loss(x_hat, x, reduction='sum')\n",
    "        kl_div = -0.5 * torch.sum(1 + logvar - mu.pow(2) - logvar.exp())\n",
    "        return recon_loss + kl_div\n",
    "    "
   ]
  },
  {
   "cell_type": "code",
   "execution_count": 8,
   "metadata": {},
   "outputs": [
    {
     "name": "stderr",
     "output_type": "stream",
     "text": [
      "Epoch 1/10: 1340batch [00:05, 224.74batch/s, loss=6.85]                        \n"
     ]
    },
    {
     "name": "stdout",
     "output_type": "stream",
     "text": [
      "Epoch 1/10, Average Loss: 67.1153\n"
     ]
    },
    {
     "name": "stderr",
     "output_type": "stream",
     "text": [
      "Epoch 2/10: 1340batch [00:05, 235.38batch/s, loss=6.72]                       \n"
     ]
    },
    {
     "name": "stdout",
     "output_type": "stream",
     "text": [
      "Epoch 2/10, Average Loss: 16.0102\n"
     ]
    },
    {
     "name": "stderr",
     "output_type": "stream",
     "text": [
      "Epoch 3/10: 1340batch [00:05, 225.67batch/s, loss=6.66]                       \n"
     ]
    },
    {
     "name": "stdout",
     "output_type": "stream",
     "text": [
      "Epoch 3/10, Average Loss: 15.9289\n"
     ]
    },
    {
     "name": "stderr",
     "output_type": "stream",
     "text": [
      "Epoch 4/10: 1340batch [00:06, 223.17batch/s, loss=6.69]                       \n"
     ]
    },
    {
     "name": "stdout",
     "output_type": "stream",
     "text": [
      "Epoch 4/10, Average Loss: 15.9187\n"
     ]
    },
    {
     "name": "stderr",
     "output_type": "stream",
     "text": [
      "Epoch 5/10: 1340batch [00:05, 259.71batch/s, loss=6.69]                       \n"
     ]
    },
    {
     "name": "stdout",
     "output_type": "stream",
     "text": [
      "Epoch 5/10, Average Loss: 15.9167\n"
     ]
    },
    {
     "name": "stderr",
     "output_type": "stream",
     "text": [
      "Epoch 6/10: 1340batch [00:05, 234.42batch/s, loss=6.69]                       \n"
     ]
    },
    {
     "name": "stdout",
     "output_type": "stream",
     "text": [
      "Epoch 6/10, Average Loss: 15.9154\n"
     ]
    },
    {
     "name": "stderr",
     "output_type": "stream",
     "text": [
      "Epoch 7/10: 1340batch [00:05, 262.61batch/s, loss=6.68]                       \n"
     ]
    },
    {
     "name": "stdout",
     "output_type": "stream",
     "text": [
      "Epoch 7/10, Average Loss: 15.9157\n"
     ]
    },
    {
     "name": "stderr",
     "output_type": "stream",
     "text": [
      "Epoch 8/10: 1340batch [00:04, 280.75batch/s, loss=6.68]                       \n"
     ]
    },
    {
     "name": "stdout",
     "output_type": "stream",
     "text": [
      "Epoch 8/10, Average Loss: 15.9116\n"
     ]
    },
    {
     "name": "stderr",
     "output_type": "stream",
     "text": [
      "Epoch 9/10: 1340batch [00:05, 262.74batch/s, loss=6.69]                       \n"
     ]
    },
    {
     "name": "stdout",
     "output_type": "stream",
     "text": [
      "Epoch 9/10, Average Loss: 15.9108\n"
     ]
    },
    {
     "name": "stderr",
     "output_type": "stream",
     "text": [
      "Epoch 10/10: 1340batch [00:05, 236.77batch/s, loss=6.71]                       "
     ]
    },
    {
     "name": "stdout",
     "output_type": "stream",
     "text": [
      "Epoch 10/10, Average Loss: 15.9064\n"
     ]
    },
    {
     "name": "stderr",
     "output_type": "stream",
     "text": [
      "\n"
     ]
    }
   ],
   "source": [
    "from tqdm import tqdm\n",
    "\n",
    "# Define the model, optimizer, and other parameters\n",
    "X_train = X_non_fraud_train1\n",
    "input_dim = X_train.shape[1]\n",
    "hidden_dim = 16\n",
    "latent_dim = 2\n",
    "model = VAE(input_dim, hidden_dim, latent_dim)\n",
    "optimizer = torch.optim.Adam(model.parameters(), lr=1e-3)\n",
    "\n",
    "# Define training parameters\n",
    "n_epochs = 10\n",
    "batch_size = 128\n",
    "\n",
    "# Training loop with tqdm\n",
    "for epoch in range(n_epochs):\n",
    "    model.train()\n",
    "    epoch_loss = 0.0\n",
    "    num_batches = len(X_train) // batch_size\n",
    "    \n",
    "    # Create a tqdm progress bar\n",
    "    with tqdm(total=num_batches, desc=f'Epoch {epoch+1}/{n_epochs}', unit='batch') as pbar:\n",
    "        for i in range(0, len(X_train), batch_size):\n",
    "            x = torch.tensor(X_train[i:i+batch_size], dtype=torch.float32)\n",
    "            x_hat, mu, logvar = model(x)\n",
    "            loss = model.loss(x, x_hat, mu, logvar)\n",
    "            \n",
    "            optimizer.zero_grad()\n",
    "            loss.backward()\n",
    "            optimizer.step()\n",
    "            \n",
    "            epoch_loss += loss.item()\n",
    "            pbar.set_postfix({'loss': loss.item()})\n",
    "            pbar.update(1)\n",
    "        \n",
    "    # Print average loss for the epoch\n",
    "    avg_loss = epoch_loss / num_batches\n",
    "    print(f'Epoch {epoch+1}/{n_epochs}, Average Loss: {avg_loss:.4f}')\n"
   ]
  },
  {
   "cell_type": "markdown",
   "metadata": {},
   "source": [
    "<h3> Finding the threshold using percentile method </h3>"
   ]
  },
  {
   "cell_type": "code",
   "execution_count": 14,
   "metadata": {},
   "outputs": [
    {
     "name": "stdout",
     "output_type": "stream",
     "text": [
      "0.00911129079759121\n"
     ]
    },
    {
     "name": "stderr",
     "output_type": "stream",
     "text": [
      "/tmp/ipykernel_51728/4081340268.py:7: UserWarning: To copy construct from a tensor, it is recommended to use sourceTensor.clone().detach() or sourceTensor.clone().detach().requires_grad_(True), rather than torch.tensor(sourceTensor).\n",
      "  X_val = torch.tensor(X_val, dtype=torch.float32)\n"
     ]
    }
   ],
   "source": [
    "import numpy as np\n",
    "\n",
    "# import f1score, precision_score from sklearn\n",
    "from sklearn.metrics import f1_score, precision_score, accuracy_score\n",
    "\n",
    "# convert the X_val to tensor\n",
    "X_val = torch.tensor(X_val, dtype=torch.float32)\n",
    "\n",
    "y_pred,_,_ = model(X_val)\n",
    "# print(y_pred.shape)\n",
    "mse= np.mean(np.square(X_val.detach().numpy() - y_pred.detach().numpy()), axis=1)\n",
    "\n",
    "# mse = np.mean(np.square(X_val - y_pred), axis=1)\n",
    "\n",
    "threshold = np.percentile(mse, 95)\n",
    "print(threshold)\n"
   ]
  },
  {
   "cell_type": "code",
   "execution_count": 15,
   "metadata": {},
   "outputs": [
    {
     "name": "stdout",
     "output_type": "stream",
     "text": [
      "              precision    recall  f1-score   support\n",
      "\n",
      "         0.0       1.00      0.95      0.98     93824\n",
      "         1.0       0.07      0.68      0.13       492\n",
      "\n",
      "    accuracy                           0.95     94316\n",
      "   macro avg       0.53      0.82      0.55     94316\n",
      "weighted avg       0.99      0.95      0.97     94316\n",
      "\n"
     ]
    }
   ],
   "source": [
    "from sklearn.metrics import classification_report\n",
    "\n",
    "y_predicted = mse > threshold\n",
    "print(classification_report(y_val, y_predicted))"
   ]
  },
  {
   "cell_type": "markdown",
   "metadata": {},
   "source": [
    "<h2> Results: </h2>\n",
    "<h4> f1 score for Autoencoders is 0.97, precision is 1, accuracy is 0.95. </h4>\n",
    "<h4> f1 score for VAE is 0.98, precision is 0.16, accuracy is 0.95. </h4>\n",
    "<h4> VAE has better f1 score than Autoencoders. </h4>"
   ]
  }
 ],
 "metadata": {
  "kernelspec": {
   "display_name": "Python 3",
   "language": "python",
   "name": "python3"
  },
  "language_info": {
   "codemirror_mode": {
    "name": "ipython",
    "version": 3
   },
   "file_extension": ".py",
   "mimetype": "text/x-python",
   "name": "python",
   "nbconvert_exporter": "python",
   "pygments_lexer": "ipython3",
   "version": "3.10.12"
  }
 },
 "nbformat": 4,
 "nbformat_minor": 2
}
